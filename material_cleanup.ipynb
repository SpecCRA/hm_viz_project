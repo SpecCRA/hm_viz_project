{
 "cells": [
  {
   "cell_type": "code",
   "execution_count": 13,
   "metadata": {},
   "outputs": [],
   "source": [
    "import pandas as pd\n",
    "import numpy as np\n",
    "import matplotlib.pyplot as plt\n",
    "import json\n",
    "\n",
    "%matplotlib inline"
   ]
  },
  {
   "cell_type": "markdown",
   "metadata": {},
   "source": [
    "# Load and Verify Data"
   ]
  },
  {
   "cell_type": "code",
   "execution_count": 37,
   "metadata": {},
   "outputs": [],
   "source": [
    "product_path = 'C:\\\\Users\\\\bxiao\\\\Documents\\\\project_files\\\\hm_viz\\\\hm_products.xlsx'\n",
    "product_sheet = 'hm_products'\n",
    "\n",
    "higg_file = 'C:\\\\Users\\\\bxiao\\\\Documents\\\\project_files\\\\hm_viz\\\\higg_msi_data.xlsx'\n",
    "#higg_sheet = 'higg_msi_data'"
   ]
  },
  {
   "cell_type": "code",
   "execution_count": 32,
   "metadata": {},
   "outputs": [
    {
     "data": {
      "text/html": [
       "<div>\n",
       "<style scoped>\n",
       "    .dataframe tbody tr th:only-of-type {\n",
       "        vertical-align: middle;\n",
       "    }\n",
       "\n",
       "    .dataframe tbody tr th {\n",
       "        vertical-align: top;\n",
       "    }\n",
       "\n",
       "    .dataframe thead th {\n",
       "        text-align: right;\n",
       "    }\n",
       "</style>\n",
       "<table border=\"1\" class=\"dataframe\">\n",
       "  <thead>\n",
       "    <tr style=\"text-align: right;\">\n",
       "      <th></th>\n",
       "      <th>code</th>\n",
       "      <th>name</th>\n",
       "      <th>materials</th>\n",
       "      <th>factory_name</th>\n",
       "      <th>country</th>\n",
       "      <th>supplier_name</th>\n",
       "    </tr>\n",
       "  </thead>\n",
       "  <tbody>\n",
       "    <tr>\n",
       "      <td>0</td>\n",
       "      <td>107727001</td>\n",
       "      <td>Washed Linen Bathrobe</td>\n",
       "      <td>{\"Linen\": 100}</td>\n",
       "      <td>Shanghai Donglong Home Textile Products Co.Ltd...</td>\n",
       "      <td>China</td>\n",
       "      <td>SHANGHAI DONGLONG HOME TEXTILE  PRODUCTS CO., ...</td>\n",
       "    </tr>\n",
       "    <tr>\n",
       "      <td>1</td>\n",
       "      <td>107727001</td>\n",
       "      <td>Washed Linen Bathrobe</td>\n",
       "      <td>{\"Linen\": 100}</td>\n",
       "      <td>Yan Tai North Hometextile Co.,ltd</td>\n",
       "      <td>China</td>\n",
       "      <td>YAN TAI NORTH HOME TEXTILE CO.,LTD</td>\n",
       "    </tr>\n",
       "    <tr>\n",
       "      <td>2</td>\n",
       "      <td>107727002</td>\n",
       "      <td>Washed Linen Bathrobe</td>\n",
       "      <td>{\"Linen\": 100}</td>\n",
       "      <td>Shanghai Donglong Home Textile Products Co.Ltd...</td>\n",
       "      <td>China</td>\n",
       "      <td>SHANGHAI DONGLONG HOME TEXTILE  PRODUCTS CO., ...</td>\n",
       "    </tr>\n",
       "    <tr>\n",
       "      <td>3</td>\n",
       "      <td>107727002</td>\n",
       "      <td>Washed Linen Bathrobe</td>\n",
       "      <td>{\"Linen\": 100}</td>\n",
       "      <td>Yan Tai North Hometextile Co.,ltd</td>\n",
       "      <td>China</td>\n",
       "      <td>YAN TAI NORTH HOME TEXTILE CO.,LTD</td>\n",
       "    </tr>\n",
       "    <tr>\n",
       "      <td>4</td>\n",
       "      <td>107727021</td>\n",
       "      <td>Washed Linen Bathrobe</td>\n",
       "      <td>{\"Linen\": 100}</td>\n",
       "      <td>Shanghai Donglong Home Textile Products Co.Ltd...</td>\n",
       "      <td>China</td>\n",
       "      <td>SHANGHAI DONGLONG HOME TEXTILE  PRODUCTS CO., ...</td>\n",
       "    </tr>\n",
       "  </tbody>\n",
       "</table>\n",
       "</div>"
      ],
      "text/plain": [
       "        code                   name       materials  \\\n",
       "0  107727001  Washed Linen Bathrobe  {\"Linen\": 100}   \n",
       "1  107727001  Washed Linen Bathrobe  {\"Linen\": 100}   \n",
       "2  107727002  Washed Linen Bathrobe  {\"Linen\": 100}   \n",
       "3  107727002  Washed Linen Bathrobe  {\"Linen\": 100}   \n",
       "4  107727021  Washed Linen Bathrobe  {\"Linen\": 100}   \n",
       "\n",
       "                                        factory_name country  \\\n",
       "0  Shanghai Donglong Home Textile Products Co.Ltd...   China   \n",
       "1                  Yan Tai North Hometextile Co.,ltd   China   \n",
       "2  Shanghai Donglong Home Textile Products Co.Ltd...   China   \n",
       "3                  Yan Tai North Hometextile Co.,ltd   China   \n",
       "4  Shanghai Donglong Home Textile Products Co.Ltd...   China   \n",
       "\n",
       "                                       supplier_name  \n",
       "0  SHANGHAI DONGLONG HOME TEXTILE  PRODUCTS CO., ...  \n",
       "1                 YAN TAI NORTH HOME TEXTILE CO.,LTD  \n",
       "2  SHANGHAI DONGLONG HOME TEXTILE  PRODUCTS CO., ...  \n",
       "3                 YAN TAI NORTH HOME TEXTILE CO.,LTD  \n",
       "4  SHANGHAI DONGLONG HOME TEXTILE  PRODUCTS CO., ...  "
      ]
     },
     "execution_count": 32,
     "metadata": {},
     "output_type": "execute_result"
    }
   ],
   "source": [
    "product_df = pd.read_excel(product_path, sheets=product_sheet)\n",
    "product_df.head()"
   ]
  },
  {
   "cell_type": "code",
   "execution_count": 39,
   "metadata": {},
   "outputs": [
    {
     "data": {
      "text/html": [
       "<div>\n",
       "<style scoped>\n",
       "    .dataframe tbody tr th:only-of-type {\n",
       "        vertical-align: middle;\n",
       "    }\n",
       "\n",
       "    .dataframe tbody tr th {\n",
       "        vertical-align: top;\n",
       "    }\n",
       "\n",
       "    .dataframe thead th {\n",
       "        text-align: right;\n",
       "    }\n",
       "</style>\n",
       "<table border=\"1\" class=\"dataframe\">\n",
       "  <thead>\n",
       "    <tr style=\"text-align: right;\">\n",
       "      <th></th>\n",
       "      <th>material</th>\n",
       "      <th>score</th>\n",
       "      <th>category</th>\n",
       "    </tr>\n",
       "  </thead>\n",
       "  <tbody>\n",
       "    <tr>\n",
       "      <td>0</td>\n",
       "      <td>BiComponent Coating</td>\n",
       "      <td>28</td>\n",
       "      <td>Coatings and Laminations</td>\n",
       "    </tr>\n",
       "    <tr>\n",
       "      <td>1</td>\n",
       "      <td>BiComponent Laminate</td>\n",
       "      <td>31</td>\n",
       "      <td>Coatings and Laminations</td>\n",
       "    </tr>\n",
       "    <tr>\n",
       "      <td>2</td>\n",
       "      <td>Microporous Coating</td>\n",
       "      <td>23</td>\n",
       "      <td>Coatings and Laminations</td>\n",
       "    </tr>\n",
       "    <tr>\n",
       "      <td>3</td>\n",
       "      <td>Microporous Laminate</td>\n",
       "      <td>26</td>\n",
       "      <td>Coatings and Laminations</td>\n",
       "    </tr>\n",
       "    <tr>\n",
       "      <td>4</td>\n",
       "      <td>Monolithic Coating</td>\n",
       "      <td>23</td>\n",
       "      <td>Coatings and Laminations</td>\n",
       "    </tr>\n",
       "  </tbody>\n",
       "</table>\n",
       "</div>"
      ],
      "text/plain": [
       "               material  score                  category\n",
       "0   BiComponent Coating     28  Coatings and Laminations\n",
       "1  BiComponent Laminate     31  Coatings and Laminations\n",
       "2   Microporous Coating     23  Coatings and Laminations\n",
       "3  Microporous Laminate     26  Coatings and Laminations\n",
       "4    Monolithic Coating     23  Coatings and Laminations"
      ]
     },
     "execution_count": 39,
     "metadata": {},
     "output_type": "execute_result"
    }
   ],
   "source": [
    "higg_df = pd.read_excel(product_path, sheets=higg_sheet)\n",
    "higg_df = pd.read_excel(higg_file)\n",
    "higg_df.head()"
   ]
  },
  {
   "cell_type": "markdown",
   "metadata": {},
   "source": [
    "# Begin Extracting Materials"
   ]
  },
  {
   "cell_type": "code",
   "execution_count": 24,
   "metadata": {},
   "outputs": [
    {
     "data": {
      "text/plain": [
       "['{\"Linen\"', ' 100}']"
      ]
     },
     "execution_count": 24,
     "metadata": {},
     "output_type": "execute_result"
    }
   ],
   "source": [
    "product_df.materials.iloc[0].split(':')"
   ]
  },
  {
   "cell_type": "code",
   "execution_count": 18,
   "metadata": {},
   "outputs": [
    {
     "data": {
      "text/plain": [
       "{'Linen': 100}"
      ]
     },
     "execution_count": 18,
     "metadata": {},
     "output_type": "execute_result"
    }
   ],
   "source": [
    "json.loads(product_df.materials.iloc[0])"
   ]
  }
 ],
 "metadata": {
  "kernelspec": {
   "display_name": "Python 3",
   "language": "python",
   "name": "python3"
  },
  "language_info": {
   "codemirror_mode": {
    "name": "ipython",
    "version": 3
   },
   "file_extension": ".py",
   "mimetype": "text/x-python",
   "name": "python",
   "nbconvert_exporter": "python",
   "pygments_lexer": "ipython3",
   "version": "3.7.4"
  }
 },
 "nbformat": 4,
 "nbformat_minor": 2
}
